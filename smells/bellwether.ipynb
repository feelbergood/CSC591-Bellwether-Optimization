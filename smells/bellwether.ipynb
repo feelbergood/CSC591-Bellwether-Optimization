{
 "cells": [
  {
   "cell_type": "code",
   "execution_count": 1,
   "metadata": {},
   "outputs": [
    {
     "name": "stderr",
     "output_type": "stream",
     "text": [
      "C:\\ProgramData\\Anaconda3\\lib\\site-packages\\sklearn\\ensemble\\weight_boosting.py:29: DeprecationWarning: numpy.core.umath_tests is an internal NumPy module and should not be imported. It will be removed in a future NumPy release.\n",
      "  from numpy.core.umath_tests import inner1d\n"
     ]
    }
   ],
   "source": [
    "import matplotlib\n",
    "import os\n",
    "import sys\n",
    "import random\n",
    "import pandas\n",
    "import numpy as np\n",
    "from __future__ import division, print_function\n",
    "from glob import glob\n",
    "from sklearn.ensemble import RandomForestClassifier\n",
    "from sklearn.datasets import load_files\n",
    "from sklearn.metrics import *"
   ]
  },
  {
   "cell_type": "code",
   "execution_count": 2,
   "metadata": {},
   "outputs": [],
   "source": [
    "np.seterr(divide='ignore', invalid='ignore')\n",
    "root = os.getcwd()\n",
    "dir = os.path.abspath(os.path.join(root, \"datasets\"))\n",
    "if root not in sys.path:\n",
    "    sys.path.append(root)"
   ]
  },
  {
   "cell_type": "markdown",
   "metadata": {},
   "source": [
    "### Utility Functions"
   ]
  },
  {
   "cell_type": "code",
   "execution_count": 3,
   "metadata": {},
   "outputs": [],
   "source": [
    "def get_all_projects():\n",
    "    projects = dict()\n",
    "    for datapath in os.listdir(dir):\n",
    "        formatted_path = os.path.join(dir, datapath)\n",
    "        if os.path.isdir(formatted_path):\n",
    "            projects.update({datapath: dict()})\n",
    "            files = glob(os.path.join(formatted_path, \"*.csv\"))\n",
    "            for f in files:\n",
    "                fname = f.split('\\\\')[-1].split(\"-\")[0]\n",
    "                dframe = pandas.read_csv(f)\n",
    "                projects[datapath].update({fname: dframe})\n",
    "    return projects\n",
    "\n",
    "def abcd(actual, predicted, distribution, as_percent=True):\n",
    "\n",
    "    \"\"\"\n",
    "    Confusion Matrix:\n",
    "\n",
    "    |`````````````|`````````````|\n",
    "    |  TN[0][0]   |  FP[0][1]   |\n",
    "    |             |             |\n",
    "    |`````````````|`````````````|\n",
    "    |  FN[1][0]   |  TP[1][1]   |\n",
    "    |             |             |\n",
    "    `````````````````````````````\n",
    "    \"\"\"\n",
    "\n",
    "    c_mtx = confusion_matrix(actual, predicted)\n",
    "\n",
    "    \"Probablity of Detection: Pd\"\n",
    "    try:\n",
    "        p_d = c_mtx[1][1] / (c_mtx[1][1] + c_mtx[1][0])  # TP/(TP+FN)\n",
    "    except ZeroDivisionError:\n",
    "        p_d = 0\n",
    "\n",
    "    \"Probability of False Alarm: Pf\"\n",
    "    try:\n",
    "        p_f = c_mtx[0][1] / (c_mtx[0][1] + c_mtx[0][0])  # FP/(FP+TN)\n",
    "    except ZeroDivisionError:\n",
    "        p_f = 0\n",
    "\n",
    "    \"Precision\"\n",
    "    try:\n",
    "        p_r = c_mtx[1][1] / (c_mtx[1][1] + c_mtx[0][1])  # TP/(TP+FP)\n",
    "        if not np.isfinite(p_r): p_r = 0\n",
    "    except ZeroDivisionError:\n",
    "        p_r = 0\n",
    "\n",
    "    \"Recall (Same as Pd)\"\n",
    "    r_c = p_d\n",
    "\n",
    "    \"F1 measure\"\n",
    "    try:\n",
    "        f1 = 2 * c_mtx[1][1] / (2 * c_mtx[1][1] + c_mtx[0][1] + 1 * c_mtx[1][0])  # F1 = 2*TP/(2*TP+FP+FN)\n",
    "    except ZeroDivisionError:\n",
    "        f1 = 0\n",
    "\n",
    "    \"G-Score\"\n",
    "    e_d = 2 * p_d * (1 - p_f) / (1 + p_d - p_f)\n",
    "    g = np.sqrt(p_d - p_d * p_f)  # Harmonic Mean between True positive rate and True negative rate\n",
    "\n",
    "    try:\n",
    "        auroc = round(roc_auc_score(actual, distribution), 2)\n",
    "    except ValueError:\n",
    "        auroc = 0\n",
    "\n",
    "    if as_percent is True:\n",
    "        return p_d * 100, p_f * 100, p_r * 100, r_c * 100, f1 * 100, e_d * 100, g * 100, auroc * 100\n",
    "    else:\n",
    "        return p_d, p_f, p_r, r_c, f1, e_d, g, auroc"
   ]
  },
  {
   "cell_type": "code",
   "execution_count": 4,
   "metadata": {
    "scrolled": true
   },
   "outputs": [],
   "source": [
    "projects = get_all_projects()\n",
    "god_class = projects['class']\n",
    "feature_envy = projects['method']"
   ]
  },
  {
   "cell_type": "code",
   "execution_count": 5,
   "metadata": {
    "scrolled": true
   },
   "outputs": [],
   "source": [
    "aoi = god_class['aoi']\n",
    "wct = god_class['wct']"
   ]
  },
  {
   "cell_type": "markdown",
   "metadata": {},
   "source": [
    "### Using Random Forest Classifier for Bellwether Discovery"
   ]
  },
  {
   "cell_type": "code",
   "execution_count": 6,
   "metadata": {},
   "outputs": [],
   "source": [
    "def rf_model(source, target, seed):\n",
    "    clf = RandomForestClassifier(n_estimators=seed, random_state=1)\n",
    "    # Binarize source\n",
    "    source.loc[source[source.columns[-1]] > 0, source.columns[-1]] = 1\n",
    "    source.loc[source[source.columns[-1]] == 0, source.columns[-1]] = 0\n",
    "    target.loc[target[target.columns[-1]] > 0, target.columns[-1]] = 1\n",
    "    target.loc[target[target.columns[-1]] == 0, target.columns[-1]] = 0\n",
    "    # Train with rforest\n",
    "    features = source.columns[:-1]\n",
    "    klass = source[source.columns[-1]]\n",
    "    clf.fit(source[features], klass)\n",
    "    preds = clf.predict(target[target.columns[:-1]])\n",
    "    distr = clf.predict_proba(target[target.columns[:-1]])\n",
    "    return preds, distr[:, 1]\n",
    "\n",
    "def weight_training(test_instance, training_instance):\n",
    "    # Use standard score to replace original data and drop NaN\n",
    "    head = training_instance.columns\n",
    "    new_train = training_instance[head[:-1]]\n",
    "    new_train = (new_train - test_instance[head[:-1]].mean()) / test_instance[head[:-1]].std()\n",
    "    new_train[head[-1]] = training_instance[head[-1]]\n",
    "    new_train.dropna(axis=1, inplace=True)\n",
    "    tgt = new_train.columns\n",
    "    new_test = (test_instance[tgt[:-1]] - test_instance[tgt[:-1]].mean()) / (test_instance[tgt[:-1]].std())\n",
    "    new_test[tgt[-1]] = test_instance[tgt[-1]]\n",
    "    new_test.dropna(axis=1, inplace=True)\n",
    "    columns = list(set(tgt[:-1]).intersection(new_test.columns[:-1])) + [tgt[-1]]\n",
    "    return new_train[columns], new_test[columns]\n",
    "\n",
    "def predict_smell(train, test, seed):\n",
    "    \"\"\"\n",
    "    Perform Code-Smell Prediction\n",
    "    :param train:\n",
    "    :type train:\n",
    "    :param test:\n",
    "    :type test:\n",
    "    :return:\n",
    "    \"\"\"\n",
    "    actual = test[test.columns[-1]].values.tolist()\n",
    "    predicted, distr = rf_model(train, test, seed)\n",
    "    return actual, predicted, distr\n",
    "\n",
    "def bellw(source, target, verbose=True, n_rep=30):\n",
    "    result = dict()\n",
    "    for tgt_name, tgt in target.items():\n",
    "        stats = []\n",
    "        charts = []\n",
    "        if verbose: print(\"{} \\r\".format(tgt_name[0].upper() + tgt_name[1:]))\n",
    "        val = []\n",
    "        for src_name, src in source.items():\n",
    "            if not src_name == tgt_name:\n",
    "                pd, pf, pr, f1, g, auc = [], [], [], [], [], []\n",
    "                for _ in range(n_rep):\n",
    "                    rseed = random.randint(1,100)\n",
    "                    _train, __test = weight_training(test_instance=tgt, training_instance=src)\n",
    "                    actual, predicted, distribution = predict_smell(train=_train, test=__test, seed=rseed)\n",
    "                    p_d, p_f, p_r, rc, f_1, e_d, _g, auroc = abcd(actual, predicted, distribution)\n",
    "\n",
    "                    pd.append(p_d)\n",
    "                    pf.append(p_f)\n",
    "                    pr.append(p_r)\n",
    "                    f1.append(f_1)\n",
    "                    g.append(_g)\n",
    "                    auc.append(int(auroc))\n",
    "\n",
    "                stats.append([src_name, int(np.mean(pd)), int(np.mean(pf)),\n",
    "                              int(np.mean(pr)), int(np.mean(f1)),\n",
    "                              int(np.mean(g)), int(np.mean(auc))])  # ,\n",
    "\n",
    "        stats = pandas.DataFrame(sorted(stats, key=lambda lst: lst[-2], reverse=True),  # Sort by G Score\n",
    "                                 columns=[\"Name\", \"Pd\", \"Pf\", \"Prec\", \"F1\", \"G\", \"AUC\"])  # ,\n",
    "\n",
    "        if verbose: print(tabulate(stats,\n",
    "                       headers=[\"Name\", \"Pd\", \"Pf\", \"Prec\", \"F1\", \"G\", \"AUC\"],\n",
    "                       showindex=\"never\",\n",
    "                       tablefmt=\"fancy_grid\"))\n",
    "\n",
    "        result.update({tgt_name: stats})\n",
    "\n",
    "    return result"
   ]
  },
  {
   "cell_type": "code",
   "execution_count": 7,
   "metadata": {
    "scrolled": false
   },
   "outputs": [],
   "source": [
    "bw_class = bellw(god_class, god_class, False)\n",
    "bw_method = bellw(feature_envy, feature_envy, False)"
   ]
  },
  {
   "cell_type": "code",
   "execution_count": 8,
   "metadata": {},
   "outputs": [
    {
     "ename": "NameError",
     "evalue": "name 'bellwether2' is not defined",
     "output_type": "error",
     "traceback": [
      "\u001b[1;31m---------------------------------------------------------------------------\u001b[0m",
      "\u001b[1;31mNameError\u001b[0m                                 Traceback (most recent call last)",
      "\u001b[1;32m<ipython-input-8-4ba3d4d8445a>\u001b[0m in \u001b[0;36m<module>\u001b[1;34m()\u001b[0m\n\u001b[1;32m----> 1\u001b[1;33m \u001b[0mprint\u001b[0m\u001b[1;33m(\u001b[0m\u001b[0mbellwether2\u001b[0m\u001b[1;33m)\u001b[0m\u001b[1;33m\u001b[0m\u001b[0m\n\u001b[0m",
      "\u001b[1;31mNameError\u001b[0m: name 'bellwether2' is not defined"
     ]
    }
   ],
   "source": [
    "print(bellwether2)"
   ]
  }
 ],
 "metadata": {
  "kernelspec": {
   "display_name": "Python 3",
   "language": "python",
   "name": "python3"
  },
  "language_info": {
   "codemirror_mode": {
    "name": "ipython",
    "version": 3
   },
   "file_extension": ".py",
   "mimetype": "text/x-python",
   "name": "python",
   "nbconvert_exporter": "python",
   "pygments_lexer": "ipython3",
   "version": "3.7.0"
  }
 },
 "nbformat": 4,
 "nbformat_minor": 2
}
